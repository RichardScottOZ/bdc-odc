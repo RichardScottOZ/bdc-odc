{
 "cells": [
  {
   "cell_type": "markdown",
   "metadata": {},
   "source": [
    "## Data Cube OWS Services\n",
    "\n",
    "This document presents an example of consumption of the OWS services provided with the integration between BDC-ODC.\n"
   ]
  },
  {
   "cell_type": "code",
   "execution_count": 1,
   "metadata": {},
   "outputs": [],
   "source": [
    "from traitlets import Unicode\n",
    "from ipyleaflet import Map, WMSLayer, basemaps\n",
    "\n",
    "from ipyleaflet import Map, FullScreenControl"
   ]
  },
  {
   "cell_type": "markdown",
   "metadata": {},
   "source": [
    "Below are the definitions of utilities used in the rest of this example"
   ]
  },
  {
   "cell_type": "code",
   "execution_count": 2,
   "metadata": {},
   "outputs": [],
   "source": [
    "BDC_MAP_CENTER = (-11.436955216143177, -52.16308593749999)\n",
    "BDC_SERVICE_URL = \"https://brazildatacube.dpi.inpe.br/opendatacube/ows/wms\"\n",
    "\n",
    "\n",
    "def bdc_odc_twms(collection_name: str, time_dimension: str, center = BDC_MAP_CENTER, zoom = 4):\n",
    "    \"\"\"Show a BDC data collection indexed on ODC instance via OWS service\n",
    "    \n",
    "    Args:\n",
    "        collection_name (str): Name of collection that will be visualized\n",
    "        \n",
    "        time_dimension (str): Time of presented layer (Check WMS get capabilities)\n",
    "    \n",
    "        center (tuple): location of map center\n",
    "        \n",
    "        zoom (int): map zoom level\n",
    "    \n",
    "    Returns:\n",
    "        TimeWMSLayer: Instance of TimeWMSLayer configured with layer from BDC-ODC OWS Service\n",
    "    \"\"\"\n",
    "    \n",
    "    class TimeWMSLayer(WMSLayer):\n",
    "        time = Unicode('').tag(sync=True, o=True)\n",
    "    \n",
    "    time_wms = TimeWMSLayer(\n",
    "        url         = BDC_SERVICE_URL,\n",
    "        layers      = collection_name,\n",
    "        time        = time_dimension,\n",
    "        format      = 'image/png',\n",
    "        transparent = True,\n",
    "        attribution = 'BDC-ODC OWS Service'\n",
    "    )\n",
    "    \n",
    "    bdcodc_map = Map(basemap=basemaps.CartoDB.Positron, zoom = zoom, center = center)\n",
    "    bdcodc_map.add_control(FullScreenControl())\n",
    "    bdcodc_map.add_layer(time_wms)\n",
    "    \n",
    "    return bdcodc_map\n",
    "    "
   ]
  },
  {
   "cell_type": "markdown",
   "metadata": {},
   "source": [
    "**Viewing WMS with time layers**\n",
    "\n",
    "> The dates used in the views can be retrieved through the [WMS GetCapabilities](https://brazildatacube.dpi.inpe.br/opendatacube/ows/wms?request=GetCapabilities&service=WMS&version=1.3.0).\n"
   ]
  },
  {
   "cell_type": "markdown",
   "metadata": {},
   "source": [
    "**LC8_30_16D_STK-1 Collection**"
   ]
  },
  {
   "cell_type": "code",
   "execution_count": 3,
   "metadata": {},
   "outputs": [
    {
     "data": {
      "application/vnd.jupyter.widget-view+json": {
       "model_id": "8b48fcb8e76a48cf8532bd331b2d28c2",
       "version_major": 2,
       "version_minor": 0
      },
      "text/plain": [
       "Map(center=[-11.436955216143177, -52.16308593749999], controls=(ZoomControl(options=['position', 'zoom_in_text…"
      ]
     },
     "metadata": {},
     "output_type": "display_data"
    }
   ],
   "source": [
    "bdc_odc_twms(\"LC8_30_16D_STK_1\", \"2019-08-28\")"
   ]
  },
  {
   "cell_type": "markdown",
   "metadata": {},
   "source": [
    "**S2_10_16D_STK-1 Collection**"
   ]
  },
  {
   "cell_type": "code",
   "execution_count": 4,
   "metadata": {},
   "outputs": [
    {
     "data": {
      "application/vnd.jupyter.widget-view+json": {
       "model_id": "fe00eef5703b41a9a587b732c5689b19",
       "version_major": 2,
       "version_minor": 0
      },
      "text/plain": [
       "Map(center=[-11.436955216143177, -52.16308593749999], controls=(ZoomControl(options=['position', 'zoom_in_text…"
      ]
     },
     "metadata": {},
     "output_type": "display_data"
    }
   ],
   "source": [
    "bdc_odc_twms(\"S2_10_16D_STK_1\", \"2019-08-28\")"
   ]
  },
  {
   "cell_type": "markdown",
   "metadata": {},
   "source": [
    "**CB4_64_16D_STK-1 Collection**"
   ]
  },
  {
   "cell_type": "code",
   "execution_count": 5,
   "metadata": {},
   "outputs": [
    {
     "data": {
      "application/vnd.jupyter.widget-view+json": {
       "model_id": "b1ce00a740e14997b6e8d91c6b87253e",
       "version_major": 2,
       "version_minor": 0
      },
      "text/plain": [
       "Map(center=[-11.436955216143177, -52.16308593749999], controls=(ZoomControl(options=['position', 'zoom_in_text…"
      ]
     },
     "metadata": {},
     "output_type": "display_data"
    }
   ],
   "source": [
    "bdc_odc_twms(\"CB4_64_16D_STK_1\", \"2019-08-28\")"
   ]
  }
 ],
 "metadata": {
  "kernelspec": {
   "display_name": "Python 3",
   "language": "python",
   "name": "python3"
  },
  "language_info": {
   "codemirror_mode": {
    "name": "ipython",
    "version": 3
   },
   "file_extension": ".py",
   "mimetype": "text/x-python",
   "name": "python",
   "nbconvert_exporter": "python",
   "pygments_lexer": "ipython3",
   "version": "3.8.5"
  }
 },
 "nbformat": 4,
 "nbformat_minor": 4
}
