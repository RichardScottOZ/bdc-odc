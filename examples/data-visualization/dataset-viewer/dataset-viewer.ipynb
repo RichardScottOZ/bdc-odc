{
 "cells": [
  {
   "cell_type": "markdown",
   "metadata": {},
   "source": [
    "## Dataset viewer - CB4_64_1\n",
    "\n",
    "This notebook shows an example of the use of datasets visualized by ODC developers\n",
    "\n",
    "> This simple example aims to present how to use the data from the BDC data stored inside the ODC. To know all the possible products, use [BDC-STAC](http://brazildatacube.dpi.inpe.br/stac/)."
   ]
  },
  {
   "cell_type": "code",
   "execution_count": 2,
   "metadata": {},
   "outputs": [],
   "source": [
    "import datacube"
   ]
  },
  {
   "cell_type": "markdown",
   "metadata": {},
   "source": [
    "Creating connection to datacube "
   ]
  },
  {
   "cell_type": "code",
   "execution_count": 3,
   "metadata": {},
   "outputs": [],
   "source": [
    "dc = datacube.Datacube(app = 'dataviz')"
   ]
  },
  {
   "cell_type": "markdown",
   "metadata": {},
   "source": [
    "Searching for some datasets. Here the data are not imported, only an index with the found elements is returned.\n",
    "\n",
    "> The region sought in the example represents Maranhão State"
   ]
  },
  {
   "cell_type": "code",
   "execution_count": 5,
   "metadata": {},
   "outputs": [],
   "source": [
    "# define region rectangle\n",
    "x = (-49.85595703125, -42.2314453125)\n",
    "y = (-0.8129610018708315, -10.228437266155943)"
   ]
  },
  {
   "cell_type": "code",
   "execution_count": 6,
   "metadata": {},
   "outputs": [],
   "source": [
    "datasets = dc.find_datasets(product = 'LC8_30_1',\n",
    "                            x = x,\n",
    "                            y = y)"
   ]
  },
  {
   "cell_type": "markdown",
   "metadata": {},
   "source": [
    "Checking elements found"
   ]
  },
  {
   "cell_type": "code",
   "execution_count": 7,
   "metadata": {},
   "outputs": [
    {
     "data": {
      "text/plain": [
       "3107"
      ]
     },
     "execution_count": 7,
     "metadata": {},
     "output_type": "execute_result"
    }
   ],
   "source": [
    "len(datasets)"
   ]
  },
  {
   "cell_type": "markdown",
   "metadata": {},
   "source": [
    "Let us view the datasets found and their positions. For this, we will use the show_datasets function, available in the [odc-ui package](https://github.com/opendatacube/odc-tools)."
   ]
  },
  {
   "cell_type": "code",
   "execution_count": 8,
   "metadata": {},
   "outputs": [],
   "source": [
    "from odc.ui import show_datasets"
   ]
  },
  {
   "cell_type": "code",
   "execution_count": 9,
   "metadata": {},
   "outputs": [
    {
     "data": {
      "application/vnd.jupyter.widget-view+json": {
       "model_id": "7b7c7a87214b48c3b02e48ae99f48da1",
       "version_major": 2,
       "version_minor": 0
      },
      "text/plain": [
       "Map(center=[-6.016646293431482, -45.220720610766975], controls=(ZoomControl(options=['position', 'zoom_in_text…"
      ]
     },
     "metadata": {},
     "output_type": "display_data"
    }
   ],
   "source": [
    "show_datasets(datasets, style = {\n",
    "    'fill': False,\n",
    "    'weight': 1,\n",
    "    'opacity': 0.5,\n",
    "    'color': 'blue'\n",
    "},\n",
    "    scroll_whell_zoom = True,\n",
    "    width = '1200px',\n",
    "    height = '600px'\n",
    ")"
   ]
  }
 ],
 "metadata": {
  "kernelspec": {
   "display_name": "Python [conda env:odc]",
   "language": "python",
   "name": "conda-env-odc-py"
  },
  "language_info": {
   "codemirror_mode": {
    "name": "ipython",
    "version": 3
   },
   "file_extension": ".py",
   "mimetype": "text/x-python",
   "name": "python",
   "nbconvert_exporter": "python",
   "pygments_lexer": "ipython3",
   "version": "3.6.10"
  }
 },
 "nbformat": 4,
 "nbformat_minor": 4
}
